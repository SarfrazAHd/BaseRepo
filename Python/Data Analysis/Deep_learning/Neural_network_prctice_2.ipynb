{
 "cells": [
  {
   "cell_type": "code",
   "execution_count": 10,
   "metadata": {},
   "outputs": [],
   "source": [
    "import pandas as pd\n",
    "from keras.models import Sequential\n",
    "from keras.layers import Dense"
   ]
  },
  {
   "cell_type": "code",
   "execution_count": 11,
   "metadata": {},
   "outputs": [],
   "source": [
    "df = pd.read_csv('diabetes.csv')"
   ]
  },
  {
   "cell_type": "code",
   "execution_count": 98,
   "metadata": {},
   "outputs": [],
   "source": [
    "X = df.iloc[:,:8]\n",
    "y = df.iloc[:,8]\n",
    "from sklearn.model_selection import train_test_split\n",
    "X_train, X_test, y_train, y_test=train_test_split(X,y, test_size=0.2, random_state=0,shuffle=False)"
   ]
  },
  {
   "cell_type": "code",
   "execution_count": 55,
   "metadata": {},
   "outputs": [],
   "source": [
    "model = Sequential()"
   ]
  },
  {
   "cell_type": "code",
   "execution_count": 56,
   "metadata": {},
   "outputs": [
    {
     "name": "stderr",
     "output_type": "stream",
     "text": [
      "C:\\Users\\21sar\\AppData\\Local\\Programs\\Python\\Python36\\lib\\site-packages\\ipykernel_launcher.py:1: UserWarning: Update your `Dense` call to the Keras 2 API: `Dense(input_dim=8, activation=\"relu\", units=12)`\n",
      "  \"\"\"Entry point for launching an IPython kernel.\n"
     ]
    }
   ],
   "source": [
    "model.add(Dense(input_dim=8,output_dim=12,activation='relu'))"
   ]
  },
  {
   "cell_type": "code",
   "execution_count": 57,
   "metadata": {},
   "outputs": [
    {
     "name": "stderr",
     "output_type": "stream",
     "text": [
      "C:\\Users\\21sar\\AppData\\Local\\Programs\\Python\\Python36\\lib\\site-packages\\ipykernel_launcher.py:1: UserWarning: Update your `Dense` call to the Keras 2 API: `Dense(activation=\"relu\", units=8)`\n",
      "  \"\"\"Entry point for launching an IPython kernel.\n"
     ]
    }
   ],
   "source": [
    "model.add(Dense(output_dim=8,activation='relu'))"
   ]
  },
  {
   "cell_type": "code",
   "execution_count": 58,
   "metadata": {},
   "outputs": [],
   "source": [
    "model.add(Dense(1, activation='sigmoid'))"
   ]
  },
  {
   "cell_type": "code",
   "execution_count": 59,
   "metadata": {},
   "outputs": [],
   "source": [
    "model.compile(loss='binary_crossentropy', optimizer='adam', metrics=['accuracy'])"
   ]
  },
  {
   "cell_type": "code",
   "execution_count": null,
   "metadata": {},
   "outputs": [
    {
     "name": "stdout",
     "output_type": "stream",
     "text": [
      "Epoch 1/150\n",
      "614/614 [==============================] - 0s 399us/step - loss: 0.5008 - accuracy: 0.7492\n",
      "Epoch 2/150\n",
      "614/614 [==============================] - 0s 365us/step - loss: 0.4884 - accuracy: 0.7785\n",
      "Epoch 3/150\n",
      "614/614 [==============================] - 0s 368us/step - loss: 0.4920 - accuracy: 0.7638\n",
      "Epoch 4/150\n",
      "614/614 [==============================] - 0s 365us/step - loss: 0.4834 - accuracy: 0.7606\n",
      "Epoch 5/150\n",
      "614/614 [==============================] - 0s 372us/step - loss: 0.5006 - accuracy: 0.7687\n",
      "Epoch 6/150\n",
      "614/614 [==============================] - 0s 384us/step - loss: 0.4865 - accuracy: 0.7834\n",
      "Epoch 7/150\n",
      "614/614 [==============================] - 0s 378us/step - loss: 0.4914 - accuracy: 0.7557\n",
      "Epoch 8/150\n",
      "614/614 [==============================] - 0s 365us/step - loss: 0.4875 - accuracy: 0.7687\n",
      "Epoch 9/150\n",
      "614/614 [==============================] - 0s 378us/step - loss: 0.4789 - accuracy: 0.7769\n",
      "Epoch 10/150\n",
      "614/614 [==============================] - 0s 388us/step - loss: 0.4930 - accuracy: 0.7606\n",
      "Epoch 11/150\n",
      "614/614 [==============================] - 0s 384us/step - loss: 0.4767 - accuracy: 0.7720\n",
      "Epoch 12/150\n",
      "614/614 [==============================] - 0s 380us/step - loss: 0.4793 - accuracy: 0.7915\n",
      "Epoch 13/150\n",
      "614/614 [==============================] - 0s 385us/step - loss: 0.4714 - accuracy: 0.7818\n",
      "Epoch 14/150\n",
      "614/614 [==============================] - 0s 378us/step - loss: 0.4842 - accuracy: 0.7769\n",
      "Epoch 15/150\n",
      "614/614 [==============================] - 0s 397us/step - loss: 0.4785 - accuracy: 0.7622\n",
      "Epoch 16/150\n",
      "614/614 [==============================] - 0s 428us/step - loss: 0.4767 - accuracy: 0.7655\n",
      "Epoch 17/150\n",
      "614/614 [==============================] - 0s 348us/step - loss: 0.4754 - accuracy: 0.7720\n",
      "Epoch 18/150\n",
      "614/614 [==============================] - 0s 349us/step - loss: 0.4797 - accuracy: 0.7850\n",
      "Epoch 19/150\n",
      "614/614 [==============================] - 0s 341us/step - loss: 0.4824 - accuracy: 0.7638\n",
      "Epoch 20/150\n",
      "614/614 [==============================] - 0s 342us/step - loss: 0.4722 - accuracy: 0.7785\n",
      "Epoch 21/150\n",
      "614/614 [==============================] - 0s 366us/step - loss: 0.4705 - accuracy: 0.7818\n",
      "Epoch 22/150\n",
      "614/614 [==============================] - 0s 363us/step - loss: 0.4720 - accuracy: 0.7736\n",
      "Epoch 23/150\n",
      "614/614 [==============================] - 0s 362us/step - loss: 0.4746 - accuracy: 0.7899\n",
      "Epoch 24/150\n",
      "614/614 [==============================] - 0s 371us/step - loss: 0.4888 - accuracy: 0.7606\n",
      "Epoch 25/150\n",
      "614/614 [==============================] - 0s 394us/step - loss: 0.4761 - accuracy: 0.7932\n",
      "Epoch 26/150\n",
      "614/614 [==============================] - 0s 374us/step - loss: 0.4717 - accuracy: 0.7850\n",
      "Epoch 27/150\n",
      "614/614 [==============================] - 0s 395us/step - loss: 0.4803 - accuracy: 0.7655\n",
      "Epoch 28/150\n",
      "614/614 [==============================] - 0s 387us/step - loss: 0.4854 - accuracy: 0.7752\n",
      "Epoch 29/150\n",
      "614/614 [==============================] - 0s 378us/step - loss: 0.4666 - accuracy: 0.7801\n",
      "Epoch 30/150\n",
      "614/614 [==============================] - 0s 384us/step - loss: 0.4716 - accuracy: 0.7801\n",
      "Epoch 31/150\n",
      "614/614 [==============================] - 0s 410us/step - loss: 0.4674 - accuracy: 0.7980\n",
      "Epoch 32/150\n",
      "614/614 [==============================] - 0s 355us/step - loss: 0.4831 - accuracy: 0.7541\n",
      "Epoch 33/150\n",
      "614/614 [==============================] - 0s 390us/step - loss: 0.4647 - accuracy: 0.7866\n",
      "Epoch 34/150\n",
      "614/614 [==============================] - 0s 398us/step - loss: 0.4879 - accuracy: 0.7590\n",
      "Epoch 35/150\n",
      "614/614 [==============================] - 0s 372us/step - loss: 0.4647 - accuracy: 0.7655\n",
      "Epoch 36/150\n",
      "614/614 [==============================] - 0s 470us/step - loss: 0.4613 - accuracy: 0.7899\n",
      "Epoch 37/150\n",
      "614/614 [==============================] - 0s 381us/step - loss: 0.4799 - accuracy: 0.7606\n",
      "Epoch 38/150\n",
      "614/614 [==============================] - 0s 475us/step - loss: 0.4673 - accuracy: 0.7752\n",
      "Epoch 39/150\n",
      "614/614 [==============================] - 0s 667us/step - loss: 0.4653 - accuracy: 0.7834\n",
      "Epoch 40/150\n",
      "614/614 [==============================] - 0s 430us/step - loss: 0.4683 - accuracy: 0.7850\n",
      "Epoch 41/150\n",
      "614/614 [==============================] - 0s 353us/step - loss: 0.4687 - accuracy: 0.7834\n",
      "Epoch 42/150\n",
      "614/614 [==============================] - 0s 362us/step - loss: 0.4692 - accuracy: 0.7850\n",
      "Epoch 43/150\n",
      "614/614 [==============================] - 0s 380us/step - loss: 0.4651 - accuracy: 0.7769\n",
      "Epoch 44/150\n",
      "614/614 [==============================] - 0s 384us/step - loss: 0.4637 - accuracy: 0.7769\n",
      "Epoch 45/150\n",
      "614/614 [==============================] - 0s 393us/step - loss: 0.4839 - accuracy: 0.7638\n",
      "Epoch 46/150\n",
      "614/614 [==============================] - 0s 411us/step - loss: 0.4713 - accuracy: 0.7687\n",
      "Epoch 47/150\n",
      "614/614 [==============================] - 0s 508us/step - loss: 0.4609 - accuracy: 0.7752\n",
      "Epoch 48/150\n",
      "614/614 [==============================] - 0s 368us/step - loss: 0.4689 - accuracy: 0.7720\n",
      "Epoch 49/150\n",
      "614/614 [==============================] - 0s 521us/step - loss: 0.4743 - accuracy: 0.7671\n",
      "Epoch 50/150\n",
      "614/614 [==============================] - 0s 466us/step - loss: 0.4623 - accuracy: 0.7834\n",
      "Epoch 51/150\n",
      "614/614 [==============================] - 0s 483us/step - loss: 0.4598 - accuracy: 0.7834\n",
      "Epoch 52/150\n",
      "614/614 [==============================] - 0s 560us/step - loss: 0.4616 - accuracy: 0.7818\n",
      "Epoch 53/150\n",
      "614/614 [==============================] - 0s 410us/step - loss: 0.4560 - accuracy: 0.7850\n",
      "Epoch 54/150\n",
      "614/614 [==============================] - 0s 430us/step - loss: 0.4712 - accuracy: 0.7769\n",
      "Epoch 55/150\n",
      "614/614 [==============================] - 0s 397us/step - loss: 0.4609 - accuracy: 0.7801\n",
      "Epoch 56/150\n",
      "614/614 [==============================] - 0s 417us/step - loss: 0.4566 - accuracy: 0.7769\n",
      "Epoch 57/150\n",
      "614/614 [==============================] - 0s 407us/step - loss: 0.4476 - accuracy: 0.7883\n",
      "Epoch 58/150\n",
      "614/614 [==============================] - 0s 424us/step - loss: 0.4710 - accuracy: 0.7801\n",
      "Epoch 59/150\n",
      "614/614 [==============================] - 0s 449us/step - loss: 0.4628 - accuracy: 0.7818\n",
      "Epoch 60/150\n",
      "614/614 [==============================] - 0s 405us/step - loss: 0.4569 - accuracy: 0.7915\n",
      "Epoch 61/150\n",
      "614/614 [==============================] - 0s 411us/step - loss: 0.4568 - accuracy: 0.7883\n",
      "Epoch 62/150\n",
      "614/614 [==============================] - 0s 465us/step - loss: 0.4555 - accuracy: 0.7850\n",
      "Epoch 63/150\n",
      "614/614 [==============================] - 0s 456us/step - loss: 0.4560 - accuracy: 0.8013\n",
      "Epoch 64/150\n",
      "614/614 [==============================] - 0s 482us/step - loss: 0.4562 - accuracy: 0.7915\n",
      "Epoch 65/150\n",
      "614/614 [==============================] - 0s 489us/step - loss: 0.4580 - accuracy: 0.7850\n",
      "Epoch 66/150\n",
      "614/614 [==============================] - 0s 469us/step - loss: 0.4602 - accuracy: 0.7883\n",
      "Epoch 67/150\n",
      "614/614 [==============================] - 0s 489us/step - loss: 0.4550 - accuracy: 0.8013\n",
      "Epoch 68/150\n",
      " 10/614 [..............................] - ETA: 0s - loss: 0.4290 - accuracy: 0.7000"
     ]
    }
   ],
   "source": [
    "model.fit(X_train,y_train, epochs=150,batch_size=10)"
   ]
  },
  {
   "cell_type": "code",
   "execution_count": 63,
   "metadata": {},
   "outputs": [
    {
     "name": "stdout",
     "output_type": "stream",
     "text": [
      "768/768 [==============================] - 0s 109us/step\n",
      "Accuracy: 77.99\n"
     ]
    }
   ],
   "source": [
    "_,accuracy = model.evaluate(X, y)\n",
    "print('Accuracy: %.2f' % (accuracy*100))"
   ]
  },
  {
   "cell_type": "code",
   "execution_count": 107,
   "metadata": {},
   "outputs": [
    {
     "name": "stdout",
     "output_type": "stream",
     "text": [
      "Preditcted >> [[1]\n",
      " [0]\n",
      " [0]\n",
      " [1]\n",
      " [0]] \n",
      " Actual >> 619    1\n",
      "620    0\n",
      "621    0\n",
      "622    0\n",
      "623    0\n",
      "Name: Outcome, dtype: int64\n"
     ]
    }
   ],
   "source": [
    "y_pred = model.predict_classes(X_test)\n",
    "print(\"Preditcted >>\",y_pred[5:10],'\\n Actual >>',y_test[5:10])"
   ]
  },
  {
   "cell_type": "code",
   "execution_count": 109,
   "metadata": {},
   "outputs": [
    {
     "name": "stdout",
     "output_type": "stream",
     "text": [
      "154/154 [==============================] - 0s 103us/step\n",
      "[0.5350726378428472, 0.798701286315918]\n"
     ]
    }
   ],
   "source": [
    "score = model.evaluate(X_test, y_test)\n",
    "print(score)"
   ]
  },
  {
   "cell_type": "code",
   "execution_count": null,
   "metadata": {},
   "outputs": [],
   "source": []
  }
 ],
 "metadata": {
  "kernelspec": {
   "display_name": "Python 3",
   "language": "python",
   "name": "python3"
  },
  "language_info": {
   "codemirror_mode": {
    "name": "ipython",
    "version": 3
   },
   "file_extension": ".py",
   "mimetype": "text/x-python",
   "name": "python",
   "nbconvert_exporter": "python",
   "pygments_lexer": "ipython3",
   "version": "3.6.5rc1"
  }
 },
 "nbformat": 4,
 "nbformat_minor": 4
}
